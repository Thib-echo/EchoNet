{
 "cells": [
  {
   "cell_type": "code",
   "execution_count": 1,
   "metadata": {},
   "outputs": [
    {
     "name": "stderr",
     "output_type": "stream",
     "text": [
      "c:\\Users\\Thib\\PycharmProjects\\ECHO\\env\\Lib\\site-packages\\tqdm\\auto.py:21: TqdmWarning: IProgress not found. Please update jupyter and ipywidgets. See https://ipywidgets.readthedocs.io/en/stable/user_install.html\n",
      "  from .autonotebook import tqdm as notebook_tqdm\n"
     ]
    }
   ],
   "source": [
    "import torch\n",
    "from model import BERTClassifier\n",
    "from utils import preprocess_data, create_label_mapping"
   ]
  },
  {
   "cell_type": "code",
   "execution_count": 2,
   "metadata": {},
   "outputs": [
    {
     "name": "stdout",
     "output_type": "stream",
     "text": [
      "Predicted Urgency Level: [0]\n"
     ]
    }
   ],
   "source": [
    "def load_model(model_path, num_classes):\n",
    "    model = BERTClassifier(num_classes=num_classes)\n",
    "    model.load_state_dict(torch.load(model_path))\n",
    "    model.eval()\n",
    "    return model\n",
    "\n",
    "def test_model(model, text, device):\n",
    "    input_ids, attention_mask, _ = preprocess_data([text], [])\n",
    "    input_ids, attention_mask = input_ids.to(device), attention_mask.to(device)\n",
    "\n",
    "    with torch.no_grad():\n",
    "        output = model(input_ids, attention_mask)\n",
    "        prediction = torch.argmax(output, dim=1).cpu().numpy()\n",
    "\n",
    "    return prediction\n",
    "\n",
    "# Example usage\n",
    "device = torch.device('cuda' if torch.cuda.is_available() else 'cpu')\n",
    "model_path = 'bert_transcript_classifier.pth'\n",
    "num_classes = 3  # Replace with the actual number of classes\n",
    "\n",
    "model = load_model(model_path, num_classes).to(device)\n",
    "\n",
    "# Test with a new transcript\n",
    "new_transcript = \"Doctor: How are you feeling? Patient: Just a little cold.\"\n",
    "predicted_urgency = test_model(model, new_transcript, device)\n",
    "print(f\"Predicted Urgency Level: {predicted_urgency}\")"
   ]
  },
  {
   "cell_type": "code",
   "execution_count": null,
   "metadata": {},
   "outputs": [],
   "source": []
  }
 ],
 "metadata": {
  "kernelspec": {
   "display_name": "env",
   "language": "python",
   "name": "python3"
  },
  "language_info": {
   "codemirror_mode": {
    "name": "ipython",
    "version": 3
   },
   "file_extension": ".py",
   "mimetype": "text/x-python",
   "name": "python",
   "nbconvert_exporter": "python",
   "pygments_lexer": "ipython3",
   "version": "3.11.3"
  }
 },
 "nbformat": 4,
 "nbformat_minor": 2
}
